{
  "cells": [
    {
      "cell_type": "markdown",
      "metadata": {
        "id": "view-in-github",
        "colab_type": "text"
      },
      "source": [
        "<a href=\"https://colab.research.google.com/github/KamiraPagulayan/CCDATRCL_ASSIGNMENT_COM221/blob/main/exercise4.ipynb\" target=\"_parent\"><img src=\"https://colab.research.google.com/assets/colab-badge.svg\" alt=\"Open In Colab\"/></a>"
      ]
    },
    {
      "cell_type": "markdown",
      "metadata": {
        "id": "fCO3VeNzvGDc"
      },
      "source": [
        "# Exercise 4"
      ]
    },
    {
      "cell_type": "markdown",
      "metadata": {
        "id": "6-iNZI3BGLyB"
      },
      "source": [
        "#### Pre-defined sorting algorithms"
      ]
    },
    {
      "cell_type": "code",
      "execution_count": 2,
      "metadata": {
        "id": "xRq1W6QQGLyB"
      },
      "outputs": [],
      "source": [
        "def mergeSort(array):\n",
        "    if len(array) > 1:\n",
        "\n",
        "        #  r is the point where the array is divided into two subarrays\n",
        "        r = len(array)//2\n",
        "        L = array[:r]\n",
        "        M = array[r:]\n",
        "\n",
        "        # Sort the two halves\n",
        "        mergeSort(L)\n",
        "        mergeSort(M)\n",
        "\n",
        "        i = j = k = 0\n",
        "\n",
        "        # Until we reach either end of either L or M, pick larger among\n",
        "        # elements L and M and place them in the correct position at A[p..r]\n",
        "        while i < len(L) and j < len(M):\n",
        "            if L[i] < M[j]:\n",
        "                array[k] = L[i]\n",
        "                i += 1\n",
        "            else:\n",
        "                array[k] = M[j]\n",
        "                j += 1\n",
        "            k += 1\n",
        "\n",
        "        # When we run out of elements in either L or M,\n",
        "        # pick up the remaining elements and put in A[p..r]\n",
        "        while i < len(L):\n",
        "            array[k] = L[i]\n",
        "            i += 1\n",
        "            k += 1\n",
        "\n",
        "        while j < len(M):\n",
        "            array[k] = M[j]\n",
        "            j += 1\n",
        "            k += 1\n",
        "\n",
        "# Print the array\n",
        "def printList(array):\n",
        "    for i in range(len(array)):\n",
        "        print(array[i], end=\" \")\n",
        "    print()"
      ]
    },
    {
      "cell_type": "code",
      "execution_count": 3,
      "metadata": {
        "id": "tlQ9-vH1GLyD"
      },
      "outputs": [],
      "source": [
        "def countingSort(array):\n",
        "    size = len(array)\n",
        "    output = [0] * size\n",
        "\n",
        "    # Initialize count array\n",
        "    count = [0] * 10\n",
        "\n",
        "    # Store the count of each elements in count array\n",
        "    for i in range(0, size):\n",
        "        count[array[i]] += 1\n",
        "\n",
        "    # Store the cummulative count\n",
        "    for i in range(1, 10):\n",
        "        count[i] += count[i - 1]\n",
        "\n",
        "    # Find the index of each element of the original array in count array\n",
        "    # place the elements in output array\n",
        "    i = size - 1\n",
        "    while i >= 0:\n",
        "        output[count[array[i]] - 1] = array[i]\n",
        "        count[array[i]] -= 1\n",
        "        i -= 1\n",
        "\n",
        "    # Copy the sorted elements into original array\n",
        "    for i in range(0, size):\n",
        "        array[i] = output[i]"
      ]
    },
    {
      "cell_type": "code",
      "execution_count": 4,
      "metadata": {
        "id": "81IbN9OEGLyD"
      },
      "outputs": [],
      "source": [
        "def insertionSort(array):\n",
        "\n",
        "    for step in range(1, len(array)):\n",
        "        key = array[step]\n",
        "        j = step - 1\n",
        "\n",
        "        # Compare key with each element on the left of it until an element smaller than it is found\n",
        "        # For descending order, change key<array[j] to key>array[j].\n",
        "        while j >= 0 and key < array[j]:\n",
        "            array[j + 1] = array[j]\n",
        "            j = j - 1\n",
        "\n",
        "        # Place key at after the element just smaller than it.\n",
        "        array[j + 1] = key"
      ]
    },
    {
      "cell_type": "code",
      "execution_count": 5,
      "metadata": {
        "id": "scOFFiigGLyE"
      },
      "outputs": [],
      "source": [
        "# Bubble sort in Python\n",
        "def bubbleSort(array):\n",
        "\n",
        "  # loop to access each array element\n",
        "  for i in range(len(array)):\n",
        "\n",
        "    # loop to compare array elements\n",
        "    for j in range(0, len(array) - i - 1):\n",
        "\n",
        "      # compare two adjacent elements\n",
        "      # change > to < to sort in descending order\n",
        "      if array[j] > array[j + 1]:\n",
        "\n",
        "        # swapping elements if elements\n",
        "        # are not in the intended order\n",
        "        temp = array[j]\n",
        "        array[j] = array[j+1]\n",
        "        array[j+1] = temp"
      ]
    },
    {
      "cell_type": "markdown",
      "metadata": {
        "id": "6j9PZVsyvGDe"
      },
      "source": [
        "#### 1. Sort your **student number** in **ascending order**\n",
        "\n",
        "Example:\n",
        "\n",
        "**Input: 2022123456**\n",
        "\n",
        "**Output: 0122223456**"
      ]
    },
    {
      "cell_type": "code",
      "execution_count": 6,
      "metadata": {
        "id": "UuNMRCm3vGDe",
        "outputId": "75ce5b6b-d366-4eda-813a-d2a98ed28f41",
        "colab": {
          "base_uri": "https://localhost:8080/"
        }
      },
      "outputs": [
        {
          "output_type": "stream",
          "name": "stdout",
          "text": [
            "Input\n",
            "[2, 0, 2, 2, 1, 0, 3, 3, 9, 2]\n",
            "Output: \n",
            " 0  0  1  2  2  2  2  3  3  9 "
          ]
        }
      ],
      "source": [
        "# Student Number\n",
        "\n",
        "student_num = [2, 0, 2, 2, 1, 0, 3, 3, 9, 2]\n",
        "\n",
        "print(\"Input\")\n",
        "print(student_num)\n",
        "\n",
        "bubbleSort(student_num)\n",
        "\n",
        "print(\"Output: \")\n",
        "for i in range(len(student_num)):\n",
        "  print(\"% d\" % student_num[i], end=\" \")"
      ]
    },
    {
      "cell_type": "markdown",
      "metadata": {
        "id": "felukBjnvGDf"
      },
      "source": [
        "#### 2. Sort the **dates** in **ascending order**.\n",
        "\n",
        "dates = [\"12-25-2023\", birthday, \"01-01-2023\"]\n",
        "\n",
        "Enter your birthday in the birthday variable."
      ]
    },
    {
      "cell_type": "code",
      "execution_count": 7,
      "metadata": {
        "id": "f8xQ3N0jvGDg",
        "outputId": "e64b9a42-0eb2-454e-e6da-bf7df1ec8212",
        "colab": {
          "base_uri": "https://localhost:8080/"
        }
      },
      "outputs": [
        {
          "output_type": "stream",
          "name": "stdout",
          "text": [
            "Unsorted Date: \n",
            "['12-25-2023', '06-11-2003', '01-01-2023']\n",
            "Sorted Date: \n",
            "['01-01-2023', '06-11-2003', '12-25-2023']\n"
          ]
        }
      ],
      "source": [
        "# Birthday Date\n",
        "\n",
        "# Your birthday should be in mm-dd-yyyy\n",
        "birthday = \"06-11-2003\"\n",
        "\n",
        "dates = [\"12-25-2023\", birthday, \"01-01-2023\"]\n",
        "\n",
        "print(\"Unsorted Date: \")\n",
        "print(dates)\n",
        "\n",
        "insertionSort(dates)\n",
        "\n",
        "print(\"Sorted Date: \")\n",
        "print(dates)"
      ]
    },
    {
      "cell_type": "markdown",
      "metadata": {
        "id": "IFDPeGZxvGDg"
      },
      "source": [
        "#### 3. Count the **total number of swaps** to sort the list below using **Bubble Sort**\n",
        "\n",
        "|3|2|5|1|4|\n",
        "|---|----|---|---|---|"
      ]
    },
    {
      "cell_type": "code",
      "execution_count": 1,
      "metadata": {
        "id": "b1ppwLcevGDg",
        "colab": {
          "base_uri": "https://localhost:8080/"
        },
        "outputId": "8b84dcae-eed3-4370-d586-e92c23c08dce"
      },
      "outputs": [
        {
          "output_type": "stream",
          "name": "stdout",
          "text": [
            "Sorted list: [1, 2, 3, 4, 5]\n",
            "Total Number of Swaps: 5\n"
          ]
        }
      ],
      "source": [
        "# Total Number of Swaps\n",
        "\n",
        "def bubble_sort(arr):\n",
        "  n = len(arr)\n",
        "  swaps = 0\n",
        "\n",
        "  for i in range(n):\n",
        "    swapped = False\n",
        "\n",
        "    for j in range(0, n - i - 1):\n",
        "      if arr[j] > arr[j + 1]:\n",
        "           arr[j], arr[j + 1] = arr[j + 1], arr[j]\n",
        "           swapped = True\n",
        "           swaps += 1\n",
        "\n",
        "    if not swapped:\n",
        "      break\n",
        "\n",
        "  return swaps\n",
        "arr  = [3, 2, 5, 1, 4]\n",
        "\n",
        "totalSwaps = bubble_sort(arr)\n",
        "\n",
        "print(\"Sorted list:\", arr)\n",
        "print(\"Total Number of Swaps:\", totalSwaps)"
      ]
    },
    {
      "cell_type": "markdown",
      "metadata": {
        "id": "iO2UusQWvGDi"
      },
      "source": [
        "#### 4. Count the **total number of steps** to sort the list below using **Insertion Sort**\n",
        "\n",
        "\n",
        "|6|2|5|7|4|1|8|9|3|\n",
        "|---|---|---|---|---|---|---|---|---|"
      ]
    },
    {
      "cell_type": "code",
      "execution_count": 10,
      "metadata": {
        "id": "vq1PYEjmvGDi",
        "colab": {
          "base_uri": "https://localhost:8080/"
        },
        "outputId": "92435bd2-88cf-4262-877e-68554b25bee0"
      },
      "outputs": [
        {
          "output_type": "stream",
          "name": "stdout",
          "text": [
            "Total Number of Steps: 24\n"
          ]
        }
      ],
      "source": [
        "# Total Number of Steps\n",
        "\n",
        "def insertionSort(array):\n",
        "    steps = 0\n",
        "    for step in range(1, len(array)):\n",
        "        key = array[step]\n",
        "        j = step - 1\n",
        "\n",
        "        while j >= 0 and key < array[j]:\n",
        "            array[j + 1] = array[j]\n",
        "            j = j - 1\n",
        "            steps += 1\n",
        "\n",
        "        array[j + 1] = key\n",
        "        steps += 1\n",
        "\n",
        "    return steps\n",
        "\n",
        "my_list = [6, 2, 5, 7, 4, 1, 8, 9, 3]\n",
        "\n",
        "number_of_steps = insertionSort(my_list)\n",
        "\n",
        "print(\"Total Number of Steps:\", number_of_steps)"
      ]
    },
    {
      "cell_type": "markdown",
      "metadata": {
        "id": "jpfNCCdbvGDj"
      },
      "source": [
        "#### 5. Given the list below:\n",
        "\n",
        "\n",
        "|77|55|24|63|22|5|47|18|\n",
        "|---|---|---|---|---|---|---|---|\n",
        "\n",
        "Using **merge sort** and **counting sort**\n",
        "\n",
        "Determine which sorting algorithm is faster by counting the total number of steps for each algorithm\n"
      ]
    },
    {
      "cell_type": "code",
      "execution_count": 11,
      "metadata": {
        "id": "2YVK17cSvGDj",
        "colab": {
          "base_uri": "https://localhost:8080/"
        },
        "outputId": "18736d96-4cee-450c-cf65-eeb016c395a3"
      },
      "outputs": [
        {
          "output_type": "stream",
          "name": "stdout",
          "text": [
            "Merge sort is faster\n"
          ]
        }
      ],
      "source": [
        "# Merge and Counting Sort\n",
        "\n",
        "merge_sort_num_steps = 7\n",
        "\n",
        "counting_sort_num_steps = 2\n",
        "\n",
        "if counting_sort_num_steps is None:\n",
        "    print(\"Counting Sort is not suitable for this list.\")\n",
        "else:\n",
        "    if merge_sort_num_steps > counting_sort_num_steps:\n",
        "        print(\"Merge sort is faster\")\n",
        "    else:\n",
        "        print(\"counting sort is faster\")"
      ]
    }
  ],
  "metadata": {
    "colab": {
      "provenance": [],
      "include_colab_link": true
    },
    "kernelspec": {
      "display_name": "Python 3",
      "language": "python",
      "name": "python3"
    },
    "language_info": {
      "codemirror_mode": {
        "name": "ipython",
        "version": 3
      },
      "file_extension": ".py",
      "mimetype": "text/x-python",
      "name": "python",
      "nbconvert_exporter": "python",
      "pygments_lexer": "ipython3",
      "version": "3.11.4"
    },
    "orig_nbformat": 4
  },
  "nbformat": 4,
  "nbformat_minor": 0
}