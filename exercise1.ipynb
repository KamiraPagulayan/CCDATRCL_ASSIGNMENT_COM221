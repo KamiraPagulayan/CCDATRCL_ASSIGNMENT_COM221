{
  "cells": [
    {
      "cell_type": "markdown",
      "metadata": {
        "id": "view-in-github",
        "colab_type": "text"
      },
      "source": [
        "<a href=\"https://colab.research.google.com/github/KamiraPagulayan/CCDATRCL_ASSIGNMENT_COM221/blob/main/exercise1.ipynb\" target=\"_parent\"><img src=\"https://colab.research.google.com/assets/colab-badge.svg\" alt=\"Open In Colab\"/></a>"
      ]
    },
    {
      "cell_type": "markdown",
      "metadata": {
        "id": "h2vFiYhGzZOg"
      },
      "source": [
        "# Exercise 1"
      ]
    },
    {
      "cell_type": "markdown",
      "source": [
        "## Class Initialization"
      ],
      "metadata": {
        "id": "sRm6kPQozcaU"
      }
    },
    {
      "cell_type": "code",
      "execution_count": null,
      "metadata": {
        "id": "b1u4Dt9mzZOi"
      },
      "outputs": [],
      "source": [
        "class Node:\n",
        "    def __init__(self, data):\n",
        "        self.data = data\n",
        "        self.next = None"
      ]
    },
    {
      "cell_type": "code",
      "execution_count": null,
      "metadata": {
        "id": "tigvHSaHzZOj"
      },
      "outputs": [],
      "source": [
        "class LinkedList:\n",
        "\n",
        "    def __init__(self):\n",
        "        self.head = None\n",
        "\n",
        "    def traverse(self, node):\n",
        "        while node:\n",
        "            print(node.data, end=\" -> \")\n",
        "            node = node.next"
      ]
    },
    {
      "cell_type": "code",
      "execution_count": null,
      "metadata": {
        "id": "LIkQBioVzZOk"
      },
      "outputs": [],
      "source": [
        "class DoublyLinkedList:\n",
        "\n",
        "    def __init__(self):\n",
        "        self.head = None\n",
        "\n",
        "    def traverse(self, node):\n",
        "        while node:\n",
        "            print(node.data, end=\" -> \")\n",
        "            node = node.next"
      ]
    },
    {
      "cell_type": "code",
      "execution_count": null,
      "metadata": {
        "id": "zlxNT5EozZOl"
      },
      "outputs": [],
      "source": [
        "class CircularLinkedList:\n",
        "\n",
        "    def __init__(self):\n",
        "        self.head = None\n",
        "\n",
        "    def traverse(self, node):\n",
        "\n",
        "        head = node\n",
        "\n",
        "        while node:\n",
        "            print(node.data, end=\" -> \")\n",
        "            node = node.next\n",
        "\n",
        "            # Break to prevent infinite loop\n",
        "            if node == head:\n",
        "                break"
      ]
    },
    {
      "cell_type": "markdown",
      "metadata": {
        "id": "O68-Q1-bzZOl"
      },
      "source": [
        "#### 1. Create a Singly Linked list\n",
        "\n",
        "- Each node should contain your name and your seatmates in your row\n",
        "- Create at least 5 nodes\n",
        "- Traverse all nodes"
      ]
    },
    {
      "cell_type": "code",
      "execution_count": null,
      "metadata": {
        "id": "pTcx_OuPzZOl",
        "outputId": "b5c955ac-3567-4888-9402-ae0cd3a120b2",
        "colab": {
          "base_uri": "https://localhost:8080/"
        }
      },
      "outputs": [
        {
          "output_type": "stream",
          "name": "stdout",
          "text": [
            "Kalli -> Ronaldo -> Jessy -> Jassy -> Angelo -> "
          ]
        }
      ],
      "source": [
        "# put your code here\n",
        "\n",
        "class Node:\n",
        "    def __init__(self, data):\n",
        "      self.data = data\n",
        "      self.next = None\n",
        "\n",
        "class LinkedList:\n",
        "    def __init__(self):\n",
        "      self.head = None\n",
        "\n",
        "    def traverse(self, node):\n",
        "      while node:\n",
        "        print(node.data, end=\" -> \")\n",
        "        node = node.next\n",
        "\n",
        "linked_list = LinkedList()\n",
        "\n",
        "linked_list.head = Node(\"Kalli\")\n",
        "node_2 = Node(\"Ronaldo\")\n",
        "node_3 = Node(\"Jessy\")\n",
        "node_4 = Node(\"Jassy\")\n",
        "node_5 = Node(\"Angelo\")\n",
        "\n",
        "linked_list.head.next = node_2\n",
        "node_2.next = node_3\n",
        "node_3.next = node_4\n",
        "node_4.next = node_5\n",
        "\n",
        "linked_list.traverse(linked_list.head)"
      ]
    },
    {
      "cell_type": "markdown",
      "metadata": {
        "id": "IFgwbdw_zZOm"
      },
      "source": [
        "#### 2. Create a Doubly Linked list\n",
        "\n",
        "- Each node should contain your name and your seatmates in your row\n",
        "- Create at least 5 nodes\n",
        "- Traverse all nodes"
      ]
    },
    {
      "cell_type": "code",
      "execution_count": 14,
      "metadata": {
        "id": "8kQD2A_QzZOm",
        "outputId": "c8a6cc49-e8c7-403b-bd2a-2bedcc5fdef0",
        "colab": {
          "base_uri": "https://localhost:8080/"
        }
      },
      "outputs": [
        {
          "output_type": "stream",
          "name": "stdout",
          "text": [
            "The Head node is:  Kalli\n",
            "The Next node is:  Ronaldo\n",
            "-----\n",
            "The Second node is:  Ronaldo\n",
            "The previous of Ronaldo was:  Kalli\n",
            "The next node is:  Jessy\n",
            "The Third node is:  Jessy\n",
            "The previous of  Jessy was:  Ronaldo\n",
            "The next node is:  Jassy\n",
            "-----\n",
            "The Fourth node is:  Jassy\n",
            "The previous of  Jassy was:  Jessy\n",
            "The next node is:  Angelo\n",
            "-----\n",
            "The Fifth node is:  Angelo\n",
            "The previous of  Angelo was:  Jassy\n"
          ]
        }
      ],
      "source": [
        "# put your code here\n",
        "\n",
        "class Node:\n",
        "    def __init__(self, data):\n",
        "      self.data = data\n",
        "      self.next = None\n",
        "      self.prev = None\n",
        "\n",
        "class DoublyLinkedList:\n",
        "    def __init__(self):\n",
        "      self.head = None\n",
        "\n",
        "    def traverse(self, node):\n",
        "      while node:\n",
        "        print(node.data, end=\" -> \")\n",
        "        node = node.next\n",
        "\n",
        "doubly_linked_list = DoublyLinkedList()\n",
        "\n",
        "doubly_linked_list.head = Node(\"Kalli\")\n",
        "node_2 = Node(\"Ronaldo\")\n",
        "node_3 = Node(\"Jessy\")\n",
        "node_4 = Node(\"Jassy\")\n",
        "node_5 = Node(\"Angelo\")\n",
        "\n",
        "doubly_linked_list.head.prev = None\n",
        "doubly_linked_list.head.next = node_2\n",
        "\n",
        "node_2.prev = doubly_linked_list.head\n",
        "node_2.next = node_3\n",
        "\n",
        "node_3.prev = node_2\n",
        "node_3.next = node_4\n",
        "\n",
        "node_4.prev = node_3\n",
        "node_4.next = node_5\n",
        "\n",
        "node_5.prev = node_4\n",
        "\n",
        "print(\"The Head node is: \", doubly_linked_list.head.data)\n",
        "print(\"The Next node is: \", doubly_linked_list.head.next.data)\n",
        "\n",
        "print(\"-----\")\n",
        "\n",
        "print(\"The Second node is: \", node_2.data)\n",
        "print(\"The previous of\", node_2.data, \"was: \", node_2.prev.data)\n",
        "print(\"The next node is: \", node_2.next.data)\n",
        "\n",
        "print(\"The Third node is: \", node_3.data)\n",
        "print(\"The previous of \", node_3.data, \"was: \", node_3.prev.data)\n",
        "print(\"The next node is: \", node_3.next.data)\n",
        "\n",
        "print(\"-----\")\n",
        "\n",
        "print(\"The Fourth node is: \", node_4.data)\n",
        "print(\"The previous of \", node_4.data, \"was: \", node_4.prev.data)\n",
        "print(\"The next node is: \", node_4.next.data)\n",
        "\n",
        "print(\"-----\")\n",
        "\n",
        "print(\"The Fifth node is: \", node_5.data)\n",
        "print(\"The previous of \", node_5.data, \"was: \", node_5.prev.data)"
      ]
    },
    {
      "cell_type": "markdown",
      "metadata": {
        "id": "rtApbsCjzZOm"
      },
      "source": [
        "#### 3. Create a Circular Linked list\n",
        "\n",
        "- Each node should contain your name and your seatmates in your row\n",
        "- Create at least 5 nodes\n",
        "- Traverse all nodes"
      ]
    },
    {
      "cell_type": "code",
      "execution_count": null,
      "metadata": {
        "id": "Gp1Oiq0jzZOn",
        "outputId": "8a26186a-3516-47f6-843a-d3c87b95d912",
        "colab": {
          "base_uri": "https://localhost:8080/"
        }
      },
      "outputs": [
        {
          "output_type": "stream",
          "name": "stdout",
          "text": [
            "The head node is:  Kalli\n",
            "The next node is:  Ronaldo\n",
            "-----\n",
            "The value of node_2 is:  Ronaldo\n",
            "The next node is:  Jessy\n",
            "-----\n",
            "The value of node_3 is:  Jessy\n",
            "The next node is:  Jassy\n",
            "-----\n",
            "The value of node_4 is:  Jassy\n",
            "The next node is:  Angelo\n",
            "-----\n",
            "The value of node_5 is:  Angelo\n",
            "The next node is:  Kalli\n",
            "Kalli -> Ronaldo -> Jessy -> Jassy -> Angelo -> "
          ]
        }
      ],
      "source": [
        "# put your code here\n",
        "\n",
        "class Node:\n",
        "    def __init__(self, data):\n",
        "        self.data = data\n",
        "        self.next = None\n",
        "\n",
        "class CircularLinkedList:\n",
        "\n",
        "    def __init__(self):\n",
        "      self.head = None\n",
        "\n",
        "    def traverse(self, node):\n",
        "      head = node\n",
        "\n",
        "      while node:\n",
        "        print(node.data, end=\" -> \")\n",
        "        node = node.next\n",
        "\n",
        "        if node == head:\n",
        "          break\n",
        "\n",
        "circular_linked_list = CircularLinkedList()\n",
        "\n",
        "circular_linked_list.head = Node(\"Kalli\")\n",
        "node_2 = Node(\"Ronaldo\")\n",
        "node_3 = Node(\"Jessy\")\n",
        "node_4 = Node(\"Jassy\")\n",
        "node_5 = Node(\"Angelo\")\n",
        "\n",
        "circular_linked_list.head.next = node_2\n",
        "node_2.next = node_3\n",
        "node_3.next = node_4\n",
        "node_4.next = node_5\n",
        "node_5.next = circular_linked_list.head\n",
        "\n",
        "print(\"The head node is: \", circular_linked_list.head.data)\n",
        "print(\"The next node is: \", circular_linked_list.head.next.data)\n",
        "\n",
        "print(\"-----\")\n",
        "\n",
        "print(\"The value of node_2 is: \", node_2.data)\n",
        "print(\"The next node is: \", node_2.next.data)\n",
        "\n",
        "print(\"-----\")\n",
        "\n",
        "print(\"The value of node_3 is: \", node_3.data)\n",
        "print(\"The next node is: \", node_3.next.data)\n",
        "\n",
        "print(\"-----\")\n",
        "\n",
        "print(\"The value of node_4 is: \", node_4.data)\n",
        "print(\"The next node is: \", node_4.next.data)\n",
        "\n",
        "print(\"-----\")\n",
        "\n",
        "print(\"The value of node_5 is: \", node_5.data)\n",
        "print(\"The next node is: \", node_5.next.data)\n",
        "\n",
        "circular_linked_list.traverse(circular_linked_list.head)\n",
        "\n",
        "\n",
        "\n"
      ]
    }
  ],
  "metadata": {
    "kernelspec": {
      "display_name": "Python 3",
      "language": "python",
      "name": "python3"
    },
    "language_info": {
      "name": "python",
      "version": "3.11.4"
    },
    "orig_nbformat": 4,
    "colab": {
      "provenance": [],
      "include_colab_link": true
    }
  },
  "nbformat": 4,
  "nbformat_minor": 0
}