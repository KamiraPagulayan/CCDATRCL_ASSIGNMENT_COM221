{
  "cells": [
    {
      "cell_type": "markdown",
      "metadata": {
        "id": "view-in-github",
        "colab_type": "text"
      },
      "source": [
        "<a href=\"https://colab.research.google.com/github/KamiraPagulayan/CCDATRCL_ASSIGNMENT_COM221/blob/main/exercise5.ipynb\" target=\"_parent\"><img src=\"https://colab.research.google.com/assets/colab-badge.svg\" alt=\"Open In Colab\"/></a>"
      ]
    },
    {
      "cell_type": "markdown",
      "metadata": {
        "id": "yqWPuHQLBkcI"
      },
      "source": [
        "# Exercise 5"
      ]
    },
    {
      "cell_type": "markdown",
      "metadata": {
        "id": "LzAyVVW5BkcN"
      },
      "source": [
        "#### 1. Create a dictionary of your 10 favorite songs."
      ]
    },
    {
      "cell_type": "markdown",
      "metadata": {
        "id": "xXScEhOSBkcN"
      },
      "source": [
        "Example:\n",
        "\n",
        "|KEY|VALUE|\n",
        "|---|---|\n",
        "|001|My Love|\n",
        "|002|Like a rose|"
      ]
    },
    {
      "cell_type": "code",
      "execution_count": 12,
      "metadata": {
        "id": "Wc6DFaCuBkcO",
        "outputId": "01c2b5b8-0731-4bb1-fc19-1623c23bab4d",
        "colab": {
          "base_uri": "https://localhost:8080/"
        }
      },
      "outputs": [
        {
          "output_type": "stream",
          "name": "stdout",
          "text": [
            "{'001': 'Dirty Lies', '002': 'Give My All', '003': 'Angels Like You', '004': 'In The Stars', '005': 'Vampire', '006': 'No Body Gets Me', '007': 'Always', '008': 'Love Like This', '009': 'Nonsense', '010': 'Say Yes To Heaven'}\n"
          ]
        }
      ],
      "source": [
        "# put your answer here\n",
        "\n",
        "myDictionary = {\n",
        "\"001\" : (\"Dirty Lies\"),\n",
        "\"002\" : (\"Give My All\"),\n",
        "\"003\" : (\"Angels Like You\"),\n",
        "\"004\" : (\"In The Stars\"),\n",
        "\"005\" : (\"Vampire\"),\n",
        "\"006\" : (\"No Body Gets Me\"),\n",
        "\"007\" : (\"Always\"),\n",
        "\"008\" : (\"Love Like This\"),\n",
        "\"009\" : (\"Nonsense\"),\n",
        "\"010\" : (\"Say Yes To Heaven\")\n",
        "}\n",
        "\n",
        "print(myDictionary)"
      ]
    },
    {
      "cell_type": "markdown",
      "metadata": {
        "id": "UGRC36wVBkcQ"
      },
      "source": [
        "#### 2. Loop through the dictionary by its **key** and **value**"
      ]
    },
    {
      "cell_type": "code",
      "execution_count": 13,
      "metadata": {
        "id": "prpOOgYBBkcQ",
        "outputId": "36a0f031-a0df-47ac-80bd-4622031b3b6e",
        "colab": {
          "base_uri": "https://localhost:8080/"
        }
      },
      "outputs": [
        {
          "output_type": "stream",
          "name": "stdout",
          "text": [
            "001\n",
            "002\n",
            "003\n",
            "004\n",
            "005\n",
            "006\n",
            "007\n",
            "008\n",
            "009\n",
            "010\n"
          ]
        }
      ],
      "source": [
        "# put your answer here\n",
        "\n",
        "for i in myDictionary:\n",
        "  print(i)"
      ]
    },
    {
      "cell_type": "markdown",
      "metadata": {
        "id": "YV7kNIDsBkcR"
      },
      "source": [
        "#### 3. Add one additional song"
      ]
    },
    {
      "cell_type": "code",
      "execution_count": 14,
      "metadata": {
        "id": "180TESOdBkcR",
        "outputId": "7358808d-3a6a-4442-f246-6e8ae1cac35a",
        "colab": {
          "base_uri": "https://localhost:8080/"
        }
      },
      "outputs": [
        {
          "output_type": "execute_result",
          "data": {
            "text/plain": [
              "{'001': 'Dirty Lies',\n",
              " '002': 'Give My All',\n",
              " '003': 'Angels Like You',\n",
              " '004': 'In The Stars',\n",
              " '005': 'Vampire',\n",
              " '006': 'No Body Gets Me',\n",
              " '007': 'Always',\n",
              " '008': 'Love Like This',\n",
              " '009': 'Nonsense',\n",
              " '010': 'Say Yes To Heaven',\n",
              " '011': 'Pink + White'}"
            ]
          },
          "metadata": {},
          "execution_count": 14
        }
      ],
      "source": [
        "# put your answer here\n",
        "\n",
        "myDictionary.update({'011' : \"Pink + White\"})\n",
        "myDictionary"
      ]
    },
    {
      "cell_type": "markdown",
      "metadata": {
        "id": "d8mGQeMtBkcS"
      },
      "source": [
        "#### 4. Remove one song"
      ]
    },
    {
      "cell_type": "code",
      "execution_count": 15,
      "metadata": {
        "id": "tzFnXqbiBkcT",
        "outputId": "41229d6d-e98b-4715-f377-a3b5da76a43f",
        "colab": {
          "base_uri": "https://localhost:8080/"
        }
      },
      "outputs": [
        {
          "output_type": "execute_result",
          "data": {
            "text/plain": [
              "{'002': 'Give My All',\n",
              " '003': 'Angels Like You',\n",
              " '004': 'In The Stars',\n",
              " '005': 'Vampire',\n",
              " '006': 'No Body Gets Me',\n",
              " '007': 'Always',\n",
              " '008': 'Love Like This',\n",
              " '009': 'Nonsense',\n",
              " '010': 'Say Yes To Heaven',\n",
              " '011': 'Pink + White'}"
            ]
          },
          "metadata": {},
          "execution_count": 15
        }
      ],
      "source": [
        "# put your answer here\n",
        "\n",
        "myDictionary.pop('001')\n",
        "myDictionary"
      ]
    },
    {
      "cell_type": "markdown",
      "metadata": {
        "id": "hHVsqyj8BkcU"
      },
      "source": [
        "#### 5. Create a nested dictionary of your 10 favorite songs with 5 genres. Display all of the items of the nested dictionary\n",
        "\n",
        "- Each nested dictionary's key should be the genre of the song\n",
        "- Put each song in their respective genre"
      ]
    },
    {
      "cell_type": "markdown",
      "metadata": {
        "id": "vZ0OJTaMBkcU"
      },
      "source": [
        "Example:\n",
        "\n",
        "\n",
        "|KEY|VALUE|\n",
        "|---|---|\n",
        "|Pop|{001, Baby}|\n",
        "|Rock|{001, Enter Sandman}|"
      ]
    },
    {
      "cell_type": "code",
      "execution_count": 16,
      "metadata": {
        "id": "V55Bzff7BkcV",
        "outputId": "64392d82-5c05-4c1e-9c46-bc27db04a69e",
        "colab": {
          "base_uri": "https://localhost:8080/"
        }
      },
      "outputs": [
        {
          "output_type": "execute_result",
          "data": {
            "text/plain": [
              "{'Pop': {'001': 'Give My All',\n",
              "  '002': 'Angels Like You',\n",
              "  '003': 'In The Stars',\n",
              "  '004': 'Love Like This',\n",
              "  '005': 'Nonsense',\n",
              "  '006': 'Say Yes To Heaven'},\n",
              " 'Pop pop rock': {'001': 'Vampire'},\n",
              " 'R&B/Soul': {'001': 'Nobody Gets Me', '002': 'Always', '003': 'Pink + White'}}"
            ]
          },
          "metadata": {},
          "execution_count": 16
        }
      ],
      "source": [
        "# put your answer here\n",
        "\n",
        "myDictionary = {\n",
        "  \"Pop\" : {\n",
        "      \"001\" : (\"Give My All\"),\n",
        "      \"002\" : (\"Angels Like You\"),\n",
        "      \"003\" : (\"In The Stars\"),\n",
        "      \"004\" : (\"Love Like This\"),\n",
        "      \"005\" : (\"Nonsense\"),\n",
        "      \"006\" : (\"Say Yes To Heaven\")\n",
        "  },\n",
        "  \"Pop pop rock\" : {\n",
        "      \"001\" : (\"Vampire\")\n",
        "  },\n",
        "  \"R&B/Soul\" : {\n",
        "      \"001\" : (\"Nobody Gets Me\"),\n",
        "      \"002\" : (\"Always\"),\n",
        "      \"003\" : (\"Pink + White\")\n",
        "  }\n",
        "}\n",
        "myDictionary"
      ]
    },
    {
      "cell_type": "markdown",
      "metadata": {
        "id": "Nq3WTAipBkcV"
      },
      "source": [
        "#### 6. Print the first song of the first genre"
      ]
    },
    {
      "cell_type": "code",
      "execution_count": 17,
      "metadata": {
        "id": "9RyJfYa_BkcW",
        "outputId": "4b194e78-def5-4d93-cfaf-210f34407489",
        "colab": {
          "base_uri": "https://localhost:8080/"
        }
      },
      "outputs": [
        {
          "output_type": "stream",
          "name": "stdout",
          "text": [
            "Give My All\n"
          ]
        }
      ],
      "source": [
        "# put your answer here\n",
        "\n",
        "print(myDictionary[\"Pop\"][\"001\"])"
      ]
    },
    {
      "cell_type": "markdown",
      "metadata": {
        "id": "5px1z7tiBkcW"
      },
      "source": [
        "#### 7. Print the first song of the last genre"
      ]
    },
    {
      "cell_type": "code",
      "execution_count": 18,
      "metadata": {
        "id": "hA4FwFXTBkcW",
        "outputId": "97d2e01a-5b2e-497e-c962-71194249d53f",
        "colab": {
          "base_uri": "https://localhost:8080/"
        }
      },
      "outputs": [
        {
          "output_type": "stream",
          "name": "stdout",
          "text": [
            "Nobody Gets Me\n"
          ]
        }
      ],
      "source": [
        "# put your answer here\n",
        "\n",
        "print(myDictionary[\"R&B/Soul\"][\"001\"])"
      ]
    }
  ],
  "metadata": {
    "kernelspec": {
      "display_name": "Python 3",
      "language": "python",
      "name": "python3"
    },
    "language_info": {
      "codemirror_mode": {
        "name": "ipython",
        "version": 3
      },
      "file_extension": ".py",
      "mimetype": "text/x-python",
      "name": "python",
      "nbconvert_exporter": "python",
      "pygments_lexer": "ipython3",
      "version": "3.11.4"
    },
    "orig_nbformat": 4,
    "colab": {
      "provenance": [],
      "include_colab_link": true
    }
  },
  "nbformat": 4,
  "nbformat_minor": 0
}